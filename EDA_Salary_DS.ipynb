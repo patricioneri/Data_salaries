{
  "cells": [
    {
      "cell_type": "markdown",
      "metadata": {
        "id": "JtTUl5cNlmHO"
      },
      "source": [
        "#Salary prediction in Data Science Jobs\n",
        "\n",
        "\n",
        "\n",
        "##Introduction\n",
        "In this Notebook, I will conduct an Exploratory Data Analysis on salaries in the field of Data Science, utilizing a Kaggle dataset.\n",
        "\n",
        "##About the dataset\n",
        "The dataset was take from Kaggle:\n",
        "(https://www.kaggle.com/datasets/hummaamqaasim/jobs-in-data) and gives information about the salaries in Data Science related jobs.\n",
        "\n",
        "##Hypothesis\n",
        "Salaries in Data Science jobs can be predicted based on current information about the positions.\n",
        "\n",
        "#Objective\n",
        "Find patterns in the Data Science job dataset that influence salaries. Develop a prediction model based on these patterns.\n"
      ]
    },
    {
      "cell_type": "markdown",
      "source": [
        "#Importing libraries and information\n",
        "\n",
        "\n",
        "\n",
        "\n",
        "\n"
      ],
      "metadata": {
        "id": "pII7KnTL0CGF"
      }
    },
    {
      "cell_type": "code",
      "execution_count": null,
      "metadata": {
        "id": "-MkEGJTomgZu",
        "colab": {
          "base_uri": "https://localhost:8080/"
        },
        "outputId": "843cae57-1aa2-41f6-d343-e47d431352f5"
      },
      "outputs": [
        {
          "output_type": "stream",
          "name": "stdout",
          "text": [
            "Setup Complete\n"
          ]
        }
      ],
      "source": [
        "#Import libraries\n",
        "import pandas as pd\n",
        "pd.plotting.register_matplotlib_converters()\n",
        "import matplotlib.pyplot as plt\n",
        "%matplotlib inline\n",
        "import seaborn as sns\n",
        "print(\"Setup Complete\")"
      ]
    },
    {
      "cell_type": "code",
      "execution_count": null,
      "metadata": {
        "id": "kx44BPTBoaoX",
        "colab": {
          "base_uri": "https://localhost:8080/"
        },
        "outputId": "bca0adb8-2dea-4e71-ce00-1ccefde5a71d"
      },
      "outputs": [
        {
          "output_type": "stream",
          "name": "stdout",
          "text": [
            "Mounted at /content/gdrive\n"
          ]
        }
      ],
      "source": [
        "#Mount google drive to get access to data\n",
        "from google.colab import drive\n",
        "drive.mount('/content/gdrive')"
      ]
    },
    {
      "cell_type": "code",
      "execution_count": null,
      "metadata": {
        "id": "sFSLEaIopB8W",
        "colab": {
          "base_uri": "https://localhost:8080/"
        },
        "outputId": "f9f83b51-918f-4e11-ee8e-2dd8fea40bcc"
      },
      "outputs": [
        {
          "output_type": "stream",
          "name": "stdout",
          "text": [
            "/content/gdrive/My Drive/Colab Notebooks\n"
          ]
        }
      ],
      "source": [
        "#Indicate the path of the token API\n",
        "import os\n",
        "os.environ['KAGGLE_CONFIG_DIR'] = \"/content/gdrive/MyDrive/Kaggle\"\n",
        "\n",
        "#Indicate working directory\n",
        "%cd /content/gdrive/My Drive/Colab Notebooks"
      ]
    },
    {
      "cell_type": "code",
      "execution_count": null,
      "metadata": {
        "id": "vb1ICXM7pjcF"
      },
      "outputs": [],
      "source": [
        "#Download the data\n",
        "#!kaggle datasets download -d hummaamqaasim/jobs-in-data"
      ]
    },
    {
      "cell_type": "code",
      "execution_count": null,
      "metadata": {
        "id": "cTwjHdXBqlNV"
      },
      "outputs": [],
      "source": [
        "#Unzip the data\n",
        "#!unzip jobs-in-data.zip\n"
      ]
    },
    {
      "cell_type": "code",
      "execution_count": null,
      "metadata": {
        "id": "vNBhLKTlpo7E"
      },
      "outputs": [],
      "source": [
        "#Open the data\n",
        "jobs_data = pd.read_csv('jobs_in_data.csv')"
      ]
    },
    {
      "cell_type": "markdown",
      "source": [
        "#Exploratory Data Analysis"
      ],
      "metadata": {
        "id": "fvrRb_8B0btF"
      }
    },
    {
      "cell_type": "code",
      "execution_count": null,
      "metadata": {
        "id": "WvpWPAa1qrCH",
        "colab": {
          "base_uri": "https://localhost:8080/"
        },
        "outputId": "5548f922-0e51-47da-e12e-3a40d59c9f0f"
      },
      "outputs": [
        {
          "output_type": "execute_result",
          "data": {
            "text/plain": [
              "   work_year             job_title                    job_category  \\\n",
              "0       2023  Data DevOps Engineer                Data Engineering   \n",
              "1       2023        Data Architect  Data Architecture and Modeling   \n",
              "2       2023        Data Architect  Data Architecture and Modeling   \n",
              "3       2023        Data Scientist       Data Science and Research   \n",
              "4       2023        Data Scientist       Data Science and Research   \n",
              "\n",
              "  salary_currency  salary  salary_in_usd employee_residence experience_level  \\\n",
              "0             EUR   88000          95012            Germany        Mid-level   \n",
              "1             USD  186000         186000      United States           Senior   \n",
              "2             USD   81800          81800      United States           Senior   \n",
              "3             USD  212000         212000      United States           Senior   \n",
              "4             USD   93300          93300      United States           Senior   \n",
              "\n",
              "  employment_type work_setting company_location company_size  \n",
              "0       Full-time       Hybrid          Germany            L  \n",
              "1       Full-time    In-person    United States            M  \n",
              "2       Full-time    In-person    United States            M  \n",
              "3       Full-time    In-person    United States            M  \n",
              "4       Full-time    In-person    United States            M  "
            ],
            "text/html": [
              "\n",
              "  <div id=\"df-6f4e598b-2862-48d2-adad-9893cd534959\" class=\"colab-df-container\">\n",
              "    <div>\n",
              "<style scoped>\n",
              "    .dataframe tbody tr th:only-of-type {\n",
              "        vertical-align: middle;\n",
              "    }\n",
              "\n",
              "    .dataframe tbody tr th {\n",
              "        vertical-align: top;\n",
              "    }\n",
              "\n",
              "    .dataframe thead th {\n",
              "        text-align: right;\n",
              "    }\n",
              "</style>\n",
              "<table border=\"1\" class=\"dataframe\">\n",
              "  <thead>\n",
              "    <tr style=\"text-align: right;\">\n",
              "      <th></th>\n",
              "      <th>work_year</th>\n",
              "      <th>job_title</th>\n",
              "      <th>job_category</th>\n",
              "      <th>salary_currency</th>\n",
              "      <th>salary</th>\n",
              "      <th>salary_in_usd</th>\n",
              "      <th>employee_residence</th>\n",
              "      <th>experience_level</th>\n",
              "      <th>employment_type</th>\n",
              "      <th>work_setting</th>\n",
              "      <th>company_location</th>\n",
              "      <th>company_size</th>\n",
              "    </tr>\n",
              "  </thead>\n",
              "  <tbody>\n",
              "    <tr>\n",
              "      <th>0</th>\n",
              "      <td>2023</td>\n",
              "      <td>Data DevOps Engineer</td>\n",
              "      <td>Data Engineering</td>\n",
              "      <td>EUR</td>\n",
              "      <td>88000</td>\n",
              "      <td>95012</td>\n",
              "      <td>Germany</td>\n",
              "      <td>Mid-level</td>\n",
              "      <td>Full-time</td>\n",
              "      <td>Hybrid</td>\n",
              "      <td>Germany</td>\n",
              "      <td>L</td>\n",
              "    </tr>\n",
              "    <tr>\n",
              "      <th>1</th>\n",
              "      <td>2023</td>\n",
              "      <td>Data Architect</td>\n",
              "      <td>Data Architecture and Modeling</td>\n",
              "      <td>USD</td>\n",
              "      <td>186000</td>\n",
              "      <td>186000</td>\n",
              "      <td>United States</td>\n",
              "      <td>Senior</td>\n",
              "      <td>Full-time</td>\n",
              "      <td>In-person</td>\n",
              "      <td>United States</td>\n",
              "      <td>M</td>\n",
              "    </tr>\n",
              "    <tr>\n",
              "      <th>2</th>\n",
              "      <td>2023</td>\n",
              "      <td>Data Architect</td>\n",
              "      <td>Data Architecture and Modeling</td>\n",
              "      <td>USD</td>\n",
              "      <td>81800</td>\n",
              "      <td>81800</td>\n",
              "      <td>United States</td>\n",
              "      <td>Senior</td>\n",
              "      <td>Full-time</td>\n",
              "      <td>In-person</td>\n",
              "      <td>United States</td>\n",
              "      <td>M</td>\n",
              "    </tr>\n",
              "    <tr>\n",
              "      <th>3</th>\n",
              "      <td>2023</td>\n",
              "      <td>Data Scientist</td>\n",
              "      <td>Data Science and Research</td>\n",
              "      <td>USD</td>\n",
              "      <td>212000</td>\n",
              "      <td>212000</td>\n",
              "      <td>United States</td>\n",
              "      <td>Senior</td>\n",
              "      <td>Full-time</td>\n",
              "      <td>In-person</td>\n",
              "      <td>United States</td>\n",
              "      <td>M</td>\n",
              "    </tr>\n",
              "    <tr>\n",
              "      <th>4</th>\n",
              "      <td>2023</td>\n",
              "      <td>Data Scientist</td>\n",
              "      <td>Data Science and Research</td>\n",
              "      <td>USD</td>\n",
              "      <td>93300</td>\n",
              "      <td>93300</td>\n",
              "      <td>United States</td>\n",
              "      <td>Senior</td>\n",
              "      <td>Full-time</td>\n",
              "      <td>In-person</td>\n",
              "      <td>United States</td>\n",
              "      <td>M</td>\n",
              "    </tr>\n",
              "  </tbody>\n",
              "</table>\n",
              "</div>\n",
              "    <div class=\"colab-df-buttons\">\n",
              "\n",
              "  <div class=\"colab-df-container\">\n",
              "    <button class=\"colab-df-convert\" onclick=\"convertToInteractive('df-6f4e598b-2862-48d2-adad-9893cd534959')\"\n",
              "            title=\"Convert this dataframe to an interactive table.\"\n",
              "            style=\"display:none;\">\n",
              "\n",
              "  <svg xmlns=\"http://www.w3.org/2000/svg\" height=\"24px\" viewBox=\"0 -960 960 960\">\n",
              "    <path d=\"M120-120v-720h720v720H120Zm60-500h600v-160H180v160Zm220 220h160v-160H400v160Zm0 220h160v-160H400v160ZM180-400h160v-160H180v160Zm440 0h160v-160H620v160ZM180-180h160v-160H180v160Zm440 0h160v-160H620v160Z\"/>\n",
              "  </svg>\n",
              "    </button>\n",
              "\n",
              "  <style>\n",
              "    .colab-df-container {\n",
              "      display:flex;\n",
              "      gap: 12px;\n",
              "    }\n",
              "\n",
              "    .colab-df-convert {\n",
              "      background-color: #E8F0FE;\n",
              "      border: none;\n",
              "      border-radius: 50%;\n",
              "      cursor: pointer;\n",
              "      display: none;\n",
              "      fill: #1967D2;\n",
              "      height: 32px;\n",
              "      padding: 0 0 0 0;\n",
              "      width: 32px;\n",
              "    }\n",
              "\n",
              "    .colab-df-convert:hover {\n",
              "      background-color: #E2EBFA;\n",
              "      box-shadow: 0px 1px 2px rgba(60, 64, 67, 0.3), 0px 1px 3px 1px rgba(60, 64, 67, 0.15);\n",
              "      fill: #174EA6;\n",
              "    }\n",
              "\n",
              "    .colab-df-buttons div {\n",
              "      margin-bottom: 4px;\n",
              "    }\n",
              "\n",
              "    [theme=dark] .colab-df-convert {\n",
              "      background-color: #3B4455;\n",
              "      fill: #D2E3FC;\n",
              "    }\n",
              "\n",
              "    [theme=dark] .colab-df-convert:hover {\n",
              "      background-color: #434B5C;\n",
              "      box-shadow: 0px 1px 3px 1px rgba(0, 0, 0, 0.15);\n",
              "      filter: drop-shadow(0px 1px 2px rgba(0, 0, 0, 0.3));\n",
              "      fill: #FFFFFF;\n",
              "    }\n",
              "  </style>\n",
              "\n",
              "    <script>\n",
              "      const buttonEl =\n",
              "        document.querySelector('#df-6f4e598b-2862-48d2-adad-9893cd534959 button.colab-df-convert');\n",
              "      buttonEl.style.display =\n",
              "        google.colab.kernel.accessAllowed ? 'block' : 'none';\n",
              "\n",
              "      async function convertToInteractive(key) {\n",
              "        const element = document.querySelector('#df-6f4e598b-2862-48d2-adad-9893cd534959');\n",
              "        const dataTable =\n",
              "          await google.colab.kernel.invokeFunction('convertToInteractive',\n",
              "                                                    [key], {});\n",
              "        if (!dataTable) return;\n",
              "\n",
              "        const docLinkHtml = 'Like what you see? Visit the ' +\n",
              "          '<a target=\"_blank\" href=https://colab.research.google.com/notebooks/data_table.ipynb>data table notebook</a>'\n",
              "          + ' to learn more about interactive tables.';\n",
              "        element.innerHTML = '';\n",
              "        dataTable['output_type'] = 'display_data';\n",
              "        await google.colab.output.renderOutput(dataTable, element);\n",
              "        const docLink = document.createElement('div');\n",
              "        docLink.innerHTML = docLinkHtml;\n",
              "        element.appendChild(docLink);\n",
              "      }\n",
              "    </script>\n",
              "  </div>\n",
              "\n",
              "\n",
              "<div id=\"df-63f635a1-9616-41be-a183-f7f15417e464\">\n",
              "  <button class=\"colab-df-quickchart\" onclick=\"quickchart('df-63f635a1-9616-41be-a183-f7f15417e464')\"\n",
              "            title=\"Suggest charts\"\n",
              "            style=\"display:none;\">\n",
              "\n",
              "<svg xmlns=\"http://www.w3.org/2000/svg\" height=\"24px\"viewBox=\"0 0 24 24\"\n",
              "     width=\"24px\">\n",
              "    <g>\n",
              "        <path d=\"M19 3H5c-1.1 0-2 .9-2 2v14c0 1.1.9 2 2 2h14c1.1 0 2-.9 2-2V5c0-1.1-.9-2-2-2zM9 17H7v-7h2v7zm4 0h-2V7h2v10zm4 0h-2v-4h2v4z\"/>\n",
              "    </g>\n",
              "</svg>\n",
              "  </button>\n",
              "\n",
              "<style>\n",
              "  .colab-df-quickchart {\n",
              "      --bg-color: #E8F0FE;\n",
              "      --fill-color: #1967D2;\n",
              "      --hover-bg-color: #E2EBFA;\n",
              "      --hover-fill-color: #174EA6;\n",
              "      --disabled-fill-color: #AAA;\n",
              "      --disabled-bg-color: #DDD;\n",
              "  }\n",
              "\n",
              "  [theme=dark] .colab-df-quickchart {\n",
              "      --bg-color: #3B4455;\n",
              "      --fill-color: #D2E3FC;\n",
              "      --hover-bg-color: #434B5C;\n",
              "      --hover-fill-color: #FFFFFF;\n",
              "      --disabled-bg-color: #3B4455;\n",
              "      --disabled-fill-color: #666;\n",
              "  }\n",
              "\n",
              "  .colab-df-quickchart {\n",
              "    background-color: var(--bg-color);\n",
              "    border: none;\n",
              "    border-radius: 50%;\n",
              "    cursor: pointer;\n",
              "    display: none;\n",
              "    fill: var(--fill-color);\n",
              "    height: 32px;\n",
              "    padding: 0;\n",
              "    width: 32px;\n",
              "  }\n",
              "\n",
              "  .colab-df-quickchart:hover {\n",
              "    background-color: var(--hover-bg-color);\n",
              "    box-shadow: 0 1px 2px rgba(60, 64, 67, 0.3), 0 1px 3px 1px rgba(60, 64, 67, 0.15);\n",
              "    fill: var(--button-hover-fill-color);\n",
              "  }\n",
              "\n",
              "  .colab-df-quickchart-complete:disabled,\n",
              "  .colab-df-quickchart-complete:disabled:hover {\n",
              "    background-color: var(--disabled-bg-color);\n",
              "    fill: var(--disabled-fill-color);\n",
              "    box-shadow: none;\n",
              "  }\n",
              "\n",
              "  .colab-df-spinner {\n",
              "    border: 2px solid var(--fill-color);\n",
              "    border-color: transparent;\n",
              "    border-bottom-color: var(--fill-color);\n",
              "    animation:\n",
              "      spin 1s steps(1) infinite;\n",
              "  }\n",
              "\n",
              "  @keyframes spin {\n",
              "    0% {\n",
              "      border-color: transparent;\n",
              "      border-bottom-color: var(--fill-color);\n",
              "      border-left-color: var(--fill-color);\n",
              "    }\n",
              "    20% {\n",
              "      border-color: transparent;\n",
              "      border-left-color: var(--fill-color);\n",
              "      border-top-color: var(--fill-color);\n",
              "    }\n",
              "    30% {\n",
              "      border-color: transparent;\n",
              "      border-left-color: var(--fill-color);\n",
              "      border-top-color: var(--fill-color);\n",
              "      border-right-color: var(--fill-color);\n",
              "    }\n",
              "    40% {\n",
              "      border-color: transparent;\n",
              "      border-right-color: var(--fill-color);\n",
              "      border-top-color: var(--fill-color);\n",
              "    }\n",
              "    60% {\n",
              "      border-color: transparent;\n",
              "      border-right-color: var(--fill-color);\n",
              "    }\n",
              "    80% {\n",
              "      border-color: transparent;\n",
              "      border-right-color: var(--fill-color);\n",
              "      border-bottom-color: var(--fill-color);\n",
              "    }\n",
              "    90% {\n",
              "      border-color: transparent;\n",
              "      border-bottom-color: var(--fill-color);\n",
              "    }\n",
              "  }\n",
              "</style>\n",
              "\n",
              "  <script>\n",
              "    async function quickchart(key) {\n",
              "      const quickchartButtonEl =\n",
              "        document.querySelector('#' + key + ' button');\n",
              "      quickchartButtonEl.disabled = true;  // To prevent multiple clicks.\n",
              "      quickchartButtonEl.classList.add('colab-df-spinner');\n",
              "      try {\n",
              "        const charts = await google.colab.kernel.invokeFunction(\n",
              "            'suggestCharts', [key], {});\n",
              "      } catch (error) {\n",
              "        console.error('Error during call to suggestCharts:', error);\n",
              "      }\n",
              "      quickchartButtonEl.classList.remove('colab-df-spinner');\n",
              "      quickchartButtonEl.classList.add('colab-df-quickchart-complete');\n",
              "    }\n",
              "    (() => {\n",
              "      let quickchartButtonEl =\n",
              "        document.querySelector('#df-63f635a1-9616-41be-a183-f7f15417e464 button');\n",
              "      quickchartButtonEl.style.display =\n",
              "        google.colab.kernel.accessAllowed ? 'block' : 'none';\n",
              "    })();\n",
              "  </script>\n",
              "</div>\n",
              "\n",
              "    </div>\n",
              "  </div>\n"
            ]
          },
          "metadata": {},
          "execution_count": 9
        }
      ],
      "source": [
        "#Print first rows\n",
        "jobs_data.head()"
      ]
    },
    {
      "cell_type": "code",
      "source": [
        "#Main statistical metrics of numeric variable\n",
        "jobs_data.describe()"
      ],
      "metadata": {
        "colab": {
          "base_uri": "https://localhost:8080/"
        },
        "id": "5s4rpji6YZPk",
        "outputId": "64d793ac-17a4-4ff3-802a-46dc0ae187a0"
      },
      "execution_count": null,
      "outputs": [
        {
          "output_type": "execute_result",
          "data": {
            "text/plain": [
              "         work_year         salary  salary_in_usd\n",
              "count  9355.000000    9355.000000    9355.000000\n",
              "mean   2022.760449  149927.981293  150299.495564\n",
              "std       0.519470   63608.835387   63177.372024\n",
              "min    2020.000000   14000.000000   15000.000000\n",
              "25%    2023.000000  105200.000000  105700.000000\n",
              "50%    2023.000000  143860.000000  143000.000000\n",
              "75%    2023.000000  187000.000000  186723.000000\n",
              "max    2023.000000  450000.000000  450000.000000"
            ],
            "text/html": [
              "\n",
              "  <div id=\"df-655dd010-1261-460c-b085-3090519f441f\" class=\"colab-df-container\">\n",
              "    <div>\n",
              "<style scoped>\n",
              "    .dataframe tbody tr th:only-of-type {\n",
              "        vertical-align: middle;\n",
              "    }\n",
              "\n",
              "    .dataframe tbody tr th {\n",
              "        vertical-align: top;\n",
              "    }\n",
              "\n",
              "    .dataframe thead th {\n",
              "        text-align: right;\n",
              "    }\n",
              "</style>\n",
              "<table border=\"1\" class=\"dataframe\">\n",
              "  <thead>\n",
              "    <tr style=\"text-align: right;\">\n",
              "      <th></th>\n",
              "      <th>work_year</th>\n",
              "      <th>salary</th>\n",
              "      <th>salary_in_usd</th>\n",
              "    </tr>\n",
              "  </thead>\n",
              "  <tbody>\n",
              "    <tr>\n",
              "      <th>count</th>\n",
              "      <td>9355.000000</td>\n",
              "      <td>9355.000000</td>\n",
              "      <td>9355.000000</td>\n",
              "    </tr>\n",
              "    <tr>\n",
              "      <th>mean</th>\n",
              "      <td>2022.760449</td>\n",
              "      <td>149927.981293</td>\n",
              "      <td>150299.495564</td>\n",
              "    </tr>\n",
              "    <tr>\n",
              "      <th>std</th>\n",
              "      <td>0.519470</td>\n",
              "      <td>63608.835387</td>\n",
              "      <td>63177.372024</td>\n",
              "    </tr>\n",
              "    <tr>\n",
              "      <th>min</th>\n",
              "      <td>2020.000000</td>\n",
              "      <td>14000.000000</td>\n",
              "      <td>15000.000000</td>\n",
              "    </tr>\n",
              "    <tr>\n",
              "      <th>25%</th>\n",
              "      <td>2023.000000</td>\n",
              "      <td>105200.000000</td>\n",
              "      <td>105700.000000</td>\n",
              "    </tr>\n",
              "    <tr>\n",
              "      <th>50%</th>\n",
              "      <td>2023.000000</td>\n",
              "      <td>143860.000000</td>\n",
              "      <td>143000.000000</td>\n",
              "    </tr>\n",
              "    <tr>\n",
              "      <th>75%</th>\n",
              "      <td>2023.000000</td>\n",
              "      <td>187000.000000</td>\n",
              "      <td>186723.000000</td>\n",
              "    </tr>\n",
              "    <tr>\n",
              "      <th>max</th>\n",
              "      <td>2023.000000</td>\n",
              "      <td>450000.000000</td>\n",
              "      <td>450000.000000</td>\n",
              "    </tr>\n",
              "  </tbody>\n",
              "</table>\n",
              "</div>\n",
              "    <div class=\"colab-df-buttons\">\n",
              "\n",
              "  <div class=\"colab-df-container\">\n",
              "    <button class=\"colab-df-convert\" onclick=\"convertToInteractive('df-655dd010-1261-460c-b085-3090519f441f')\"\n",
              "            title=\"Convert this dataframe to an interactive table.\"\n",
              "            style=\"display:none;\">\n",
              "\n",
              "  <svg xmlns=\"http://www.w3.org/2000/svg\" height=\"24px\" viewBox=\"0 -960 960 960\">\n",
              "    <path d=\"M120-120v-720h720v720H120Zm60-500h600v-160H180v160Zm220 220h160v-160H400v160Zm0 220h160v-160H400v160ZM180-400h160v-160H180v160Zm440 0h160v-160H620v160ZM180-180h160v-160H180v160Zm440 0h160v-160H620v160Z\"/>\n",
              "  </svg>\n",
              "    </button>\n",
              "\n",
              "  <style>\n",
              "    .colab-df-container {\n",
              "      display:flex;\n",
              "      gap: 12px;\n",
              "    }\n",
              "\n",
              "    .colab-df-convert {\n",
              "      background-color: #E8F0FE;\n",
              "      border: none;\n",
              "      border-radius: 50%;\n",
              "      cursor: pointer;\n",
              "      display: none;\n",
              "      fill: #1967D2;\n",
              "      height: 32px;\n",
              "      padding: 0 0 0 0;\n",
              "      width: 32px;\n",
              "    }\n",
              "\n",
              "    .colab-df-convert:hover {\n",
              "      background-color: #E2EBFA;\n",
              "      box-shadow: 0px 1px 2px rgba(60, 64, 67, 0.3), 0px 1px 3px 1px rgba(60, 64, 67, 0.15);\n",
              "      fill: #174EA6;\n",
              "    }\n",
              "\n",
              "    .colab-df-buttons div {\n",
              "      margin-bottom: 4px;\n",
              "    }\n",
              "\n",
              "    [theme=dark] .colab-df-convert {\n",
              "      background-color: #3B4455;\n",
              "      fill: #D2E3FC;\n",
              "    }\n",
              "\n",
              "    [theme=dark] .colab-df-convert:hover {\n",
              "      background-color: #434B5C;\n",
              "      box-shadow: 0px 1px 3px 1px rgba(0, 0, 0, 0.15);\n",
              "      filter: drop-shadow(0px 1px 2px rgba(0, 0, 0, 0.3));\n",
              "      fill: #FFFFFF;\n",
              "    }\n",
              "  </style>\n",
              "\n",
              "    <script>\n",
              "      const buttonEl =\n",
              "        document.querySelector('#df-655dd010-1261-460c-b085-3090519f441f button.colab-df-convert');\n",
              "      buttonEl.style.display =\n",
              "        google.colab.kernel.accessAllowed ? 'block' : 'none';\n",
              "\n",
              "      async function convertToInteractive(key) {\n",
              "        const element = document.querySelector('#df-655dd010-1261-460c-b085-3090519f441f');\n",
              "        const dataTable =\n",
              "          await google.colab.kernel.invokeFunction('convertToInteractive',\n",
              "                                                    [key], {});\n",
              "        if (!dataTable) return;\n",
              "\n",
              "        const docLinkHtml = 'Like what you see? Visit the ' +\n",
              "          '<a target=\"_blank\" href=https://colab.research.google.com/notebooks/data_table.ipynb>data table notebook</a>'\n",
              "          + ' to learn more about interactive tables.';\n",
              "        element.innerHTML = '';\n",
              "        dataTable['output_type'] = 'display_data';\n",
              "        await google.colab.output.renderOutput(dataTable, element);\n",
              "        const docLink = document.createElement('div');\n",
              "        docLink.innerHTML = docLinkHtml;\n",
              "        element.appendChild(docLink);\n",
              "      }\n",
              "    </script>\n",
              "  </div>\n",
              "\n",
              "\n",
              "<div id=\"df-c722a421-429c-45bd-90d6-b8b098651cfa\">\n",
              "  <button class=\"colab-df-quickchart\" onclick=\"quickchart('df-c722a421-429c-45bd-90d6-b8b098651cfa')\"\n",
              "            title=\"Suggest charts\"\n",
              "            style=\"display:none;\">\n",
              "\n",
              "<svg xmlns=\"http://www.w3.org/2000/svg\" height=\"24px\"viewBox=\"0 0 24 24\"\n",
              "     width=\"24px\">\n",
              "    <g>\n",
              "        <path d=\"M19 3H5c-1.1 0-2 .9-2 2v14c0 1.1.9 2 2 2h14c1.1 0 2-.9 2-2V5c0-1.1-.9-2-2-2zM9 17H7v-7h2v7zm4 0h-2V7h2v10zm4 0h-2v-4h2v4z\"/>\n",
              "    </g>\n",
              "</svg>\n",
              "  </button>\n",
              "\n",
              "<style>\n",
              "  .colab-df-quickchart {\n",
              "      --bg-color: #E8F0FE;\n",
              "      --fill-color: #1967D2;\n",
              "      --hover-bg-color: #E2EBFA;\n",
              "      --hover-fill-color: #174EA6;\n",
              "      --disabled-fill-color: #AAA;\n",
              "      --disabled-bg-color: #DDD;\n",
              "  }\n",
              "\n",
              "  [theme=dark] .colab-df-quickchart {\n",
              "      --bg-color: #3B4455;\n",
              "      --fill-color: #D2E3FC;\n",
              "      --hover-bg-color: #434B5C;\n",
              "      --hover-fill-color: #FFFFFF;\n",
              "      --disabled-bg-color: #3B4455;\n",
              "      --disabled-fill-color: #666;\n",
              "  }\n",
              "\n",
              "  .colab-df-quickchart {\n",
              "    background-color: var(--bg-color);\n",
              "    border: none;\n",
              "    border-radius: 50%;\n",
              "    cursor: pointer;\n",
              "    display: none;\n",
              "    fill: var(--fill-color);\n",
              "    height: 32px;\n",
              "    padding: 0;\n",
              "    width: 32px;\n",
              "  }\n",
              "\n",
              "  .colab-df-quickchart:hover {\n",
              "    background-color: var(--hover-bg-color);\n",
              "    box-shadow: 0 1px 2px rgba(60, 64, 67, 0.3), 0 1px 3px 1px rgba(60, 64, 67, 0.15);\n",
              "    fill: var(--button-hover-fill-color);\n",
              "  }\n",
              "\n",
              "  .colab-df-quickchart-complete:disabled,\n",
              "  .colab-df-quickchart-complete:disabled:hover {\n",
              "    background-color: var(--disabled-bg-color);\n",
              "    fill: var(--disabled-fill-color);\n",
              "    box-shadow: none;\n",
              "  }\n",
              "\n",
              "  .colab-df-spinner {\n",
              "    border: 2px solid var(--fill-color);\n",
              "    border-color: transparent;\n",
              "    border-bottom-color: var(--fill-color);\n",
              "    animation:\n",
              "      spin 1s steps(1) infinite;\n",
              "  }\n",
              "\n",
              "  @keyframes spin {\n",
              "    0% {\n",
              "      border-color: transparent;\n",
              "      border-bottom-color: var(--fill-color);\n",
              "      border-left-color: var(--fill-color);\n",
              "    }\n",
              "    20% {\n",
              "      border-color: transparent;\n",
              "      border-left-color: var(--fill-color);\n",
              "      border-top-color: var(--fill-color);\n",
              "    }\n",
              "    30% {\n",
              "      border-color: transparent;\n",
              "      border-left-color: var(--fill-color);\n",
              "      border-top-color: var(--fill-color);\n",
              "      border-right-color: var(--fill-color);\n",
              "    }\n",
              "    40% {\n",
              "      border-color: transparent;\n",
              "      border-right-color: var(--fill-color);\n",
              "      border-top-color: var(--fill-color);\n",
              "    }\n",
              "    60% {\n",
              "      border-color: transparent;\n",
              "      border-right-color: var(--fill-color);\n",
              "    }\n",
              "    80% {\n",
              "      border-color: transparent;\n",
              "      border-right-color: var(--fill-color);\n",
              "      border-bottom-color: var(--fill-color);\n",
              "    }\n",
              "    90% {\n",
              "      border-color: transparent;\n",
              "      border-bottom-color: var(--fill-color);\n",
              "    }\n",
              "  }\n",
              "</style>\n",
              "\n",
              "  <script>\n",
              "    async function quickchart(key) {\n",
              "      const quickchartButtonEl =\n",
              "        document.querySelector('#' + key + ' button');\n",
              "      quickchartButtonEl.disabled = true;  // To prevent multiple clicks.\n",
              "      quickchartButtonEl.classList.add('colab-df-spinner');\n",
              "      try {\n",
              "        const charts = await google.colab.kernel.invokeFunction(\n",
              "            'suggestCharts', [key], {});\n",
              "      } catch (error) {\n",
              "        console.error('Error during call to suggestCharts:', error);\n",
              "      }\n",
              "      quickchartButtonEl.classList.remove('colab-df-spinner');\n",
              "      quickchartButtonEl.classList.add('colab-df-quickchart-complete');\n",
              "    }\n",
              "    (() => {\n",
              "      let quickchartButtonEl =\n",
              "        document.querySelector('#df-c722a421-429c-45bd-90d6-b8b098651cfa button');\n",
              "      quickchartButtonEl.style.display =\n",
              "        google.colab.kernel.accessAllowed ? 'block' : 'none';\n",
              "    })();\n",
              "  </script>\n",
              "</div>\n",
              "\n",
              "    </div>\n",
              "  </div>\n"
            ]
          },
          "metadata": {},
          "execution_count": 10
        }
      ]
    },
    {
      "cell_type": "markdown",
      "source": [
        "##Salary distribution in USD\n"
      ],
      "metadata": {
        "id": "Q_Wkk5dl6Z1G"
      }
    },
    {
      "cell_type": "code",
      "source": [
        "plt.figure(figsize=(10,4))\n",
        "sns.histplot(data=jobs_data, x=jobs_data['salary_in_usd'])\n",
        "plt.title('Salary Histogram')\n",
        "plt.xlabel('Country')\n",
        "plt.ylabel('Salary [USD]')"
      ],
      "metadata": {
        "colab": {
          "base_uri": "https://localhost:8080/"
        },
        "id": "j_5mfBbF6fzV",
        "outputId": "8096ff08-6244-474d-b813-2062b611e408"
      },
      "execution_count": null,
      "outputs": [
        {
          "output_type": "execute_result",
          "data": {
            "text/plain": [
              "Text(0, 0.5, 'Salary [USD]')"
            ]
          },
          "metadata": {},
          "execution_count": 11
        },
        {
          "output_type": "display_data",
          "data": {
            "text/plain": [
              "<Figure size 1000x400 with 1 Axes>"
            ],
            "image/png": "[encoded data removed]"
          },
          "metadata": {}
        }
      ]
    },
    {
      "cell_type": "markdown",
      "source": [
        "The histogram displays the highest number of observations in salaries between 100,000 and 200,000 USD. The positively skewed histogram indicates that the mode (the most frequent value) is to the left of the average salary. Additionally, it is probable that the dataset contains some high salary outliers."
      ],
      "metadata": {
        "id": "GajX8evfpJdu"
      }
    },
    {
      "cell_type": "code",
      "source": [
        "from scipy import stats\n",
        "\n",
        "salary_in_usd_mean = jobs_data['salary_in_usd'].mean()\n",
        "salary_in_usd_mode = stats.mode(jobs_data['salary_in_usd'])\n",
        "\n",
        "print(f'{salary_in_usd_mean}')\n",
        "print(f'{salary_in_usd_mode}')\n"
      ],
      "metadata": {
        "colab": {
          "base_uri": "https://localhost:8080/"
        },
        "id": "6YPcMM-4r-8C",
        "outputId": "257e21c4-219a-47e0-c44a-75650d06fd4d"
      },
      "execution_count": null,
      "outputs": [
        {
          "output_type": "stream",
          "name": "stdout",
          "text": [
            "150299.4955638696\n",
            "ModeResult(mode=150000, count=206)\n"
          ]
        }
      ]
    },
    {
      "cell_type": "markdown",
      "source": [
        "As expected, the mode has a lower value than the average salary."
      ],
      "metadata": {
        "id": "_j2dTnrCufmM"
      }
    },
    {
      "cell_type": "markdown",
      "source": [
        "##Mean salary in USD over the years\n",
        "\n"
      ],
      "metadata": {
        "id": "zmtg3y8QddG9"
      }
    },
    {
      "cell_type": "code",
      "source": [
        "mean_salary_by_year = jobs_data.groupby('work_year')['salary_in_usd'].mean()\n",
        "mean_salary_by_year"
      ],
      "metadata": {
        "colab": {
          "base_uri": "https://localhost:8080/"
        },
        "id": "GeqOtdnTbkTW",
        "outputId": "4910a3ac-e26d-4b53-d3a5-0b99b83bf2fb"
      },
      "execution_count": null,
      "outputs": [
        {
          "output_type": "execute_result",
          "data": {
            "text/plain": [
              "work_year\n",
              "2020    105878.859155\n",
              "2021    106483.644670\n",
              "2022    135467.501836\n",
              "2023    155132.591708\n",
              "Name: salary_in_usd, dtype: float64"
            ]
          },
          "metadata": {},
          "execution_count": 13
        }
      ]
    },
    {
      "cell_type": "code",
      "source": [
        "plt.figure(figsize=(8,4))\n",
        "sns.lineplot(data=mean_salary_by_year)\n",
        "plt.title('Mean salary in USD over the years')\n",
        "plt.xlabel('Year')\n",
        "plt.ylabel('Salary [USD]')"
      ],
      "metadata": {
        "colab": {
          "base_uri": "https://localhost:8080/"
        },
        "id": "t9VvnfQdZ80p",
        "outputId": "bef3f272-09d3-4fbf-d0d3-c13cee231b76"
      },
      "execution_count": null,
      "outputs": [
        {
          "output_type": "execute_result",
          "data": {
            "text/plain": [
              "Text(0, 0.5, 'Salary [USD]')"
            ]
          },
          "metadata": {},
          "execution_count": 14
        },
        {
          "output_type": "display_data",
          "data": {
            "text/plain": [
              "<Figure size 800x400 with 1 Axes>"
            ],
            "image/png": "[encoded data removed]"
          },
          "metadata": {}
        }
      ]
    },
    {
      "cell_type": "code",
      "source": [
        "#Percentage increase between 2020 and 2023\n",
        "increase = (mean_salary_by_year.loc[2023] - mean_salary_by_year.loc[2020])/mean_salary_by_year.loc[2020] * 100\n",
        "increase"
      ],
      "metadata": {
        "colab": {
          "base_uri": "https://localhost:8080/"
        },
        "id": "s2NFh_eveD7S",
        "outputId": "d8a7548e-4c71-44ee-98bf-1998c54aa3a2"
      },
      "execution_count": null,
      "outputs": [
        {
          "output_type": "execute_result",
          "data": {
            "text/plain": [
              "46.51894905765451"
            ]
          },
          "metadata": {},
          "execution_count": 15
        }
      ]
    },
    {
      "cell_type": "markdown",
      "source": [
        "An increase in mean salary in dollars can be observed over the years, with and increase in 46.52% berween 2020 and 2023.\n",
        "\n",
        "\n",
        "\n",
        "\n"
      ],
      "metadata": {
        "id": "aN_ohvDsdzZX"
      }
    },
    {
      "cell_type": "markdown",
      "source": [
        "##Mean salary in USD by country"
      ],
      "metadata": {
        "id": "yrKTmgyOBoao"
      }
    },
    {
      "cell_type": "code",
      "source": [
        "mean_salary_by_country = jobs_data.groupby('company_location').salary_in_usd.mean()\n",
        "\n",
        "plt.figure(figsize=(20,8))\n",
        "sns.barplot(data=mean_salary_by_country)\n",
        "plt.title('Mean salary in USD by country')\n",
        "plt.xlabel('Country')\n",
        "plt.ylabel('Salary [USD]')\n",
        "plt.xticks(rotation=90)\n",
        "plt.tick_params(axis='x', which='both', bottom=True, top=False, labelbottom=True) #Remove top xticks\n"
      ],
      "metadata": {
        "colab": {
          "base_uri": "https://localhost:8080/"
        },
        "id": "j0A5Dd3-3uzM",
        "outputId": "78b63da8-7f5d-40a5-ebf6-a0f4de99419e"
      },
      "execution_count": null,
      "outputs": [
        {
          "output_type": "display_data",
          "data": {
            "text/plain": [
              "<Figure size 2000x800 with 1 Axes>"
            ],
            "image/png": "[encoded data removed]"
          },
          "metadata": {}
        }
      ]
    },
    {
      "cell_type": "code",
      "source": [
        "mean_salary_by_country[mean_salary_by_country > 150000]"
      ],
      "metadata": {
        "colab": {
          "base_uri": "https://localhost:8080/"
        },
        "id": "E6Q-DgHDGZlW",
        "outputId": "524a3d2d-d95b-4000-9937-01c34edf583c"
      },
      "execution_count": null,
      "outputs": [
        {
          "output_type": "execute_result",
          "data": {
            "text/plain": [
              "company_location\n",
              "Japan            165500.000000\n",
              "Puerto Rico      167500.000000\n",
              "Qatar            300000.000000\n",
              "United States    158158.728234\n",
              "Name: salary_in_usd, dtype: float64"
            ]
          },
          "metadata": {},
          "execution_count": 17
        }
      ]
    },
    {
      "cell_type": "markdown",
      "source": [
        "\n",
        "The top mean salary is in Qatar. Other locations with high mean salaries (more than 150000) are: Japan, Puerto Rico, Qatar, United States.\n"
      ],
      "metadata": {
        "id": "Td7DNV6UFlmC"
      }
    },
    {
      "cell_type": "code",
      "source": [
        "#Number of salaries above 150000 by country\n",
        "top_salary = jobs_data[jobs_data['salary_in_usd'] > 150000]\n",
        "top_salary.groupby('company_location').size()"
      ],
      "metadata": {
        "colab": {
          "base_uri": "https://localhost:8080/"
        },
        "id": "zUj4UKZt_iN8",
        "outputId": "00f6fe37-a905-41a8-8b91-7e539f399aff"
      },
      "execution_count": null,
      "outputs": [
        {
          "output_type": "execute_result",
          "data": {
            "text/plain": [
              "company_location\n",
              "Australia            8\n",
              "Canada              91\n",
              "France               6\n",
              "Germany              9\n",
              "India                1\n",
              "Ireland              2\n",
              "Japan                3\n",
              "Mexico               2\n",
              "Nigeria              1\n",
              "Poland               1\n",
              "Puerto Rico          2\n",
              "Qatar                1\n",
              "Russia               1\n",
              "Saudi Arabia         1\n",
              "Spain                4\n",
              "Ukraine              2\n",
              "United Kingdom      70\n",
              "United States     3945\n",
              "dtype: int64"
            ]
          },
          "metadata": {},
          "execution_count": 18
        }
      ]
    },
    {
      "cell_type": "code",
      "source": [
        "jobs_data[jobs_data['company_location'] == 'Qatar']"
      ],
      "metadata": {
        "colab": {
          "base_uri": "https://localhost:8080/"
        },
        "id": "jA9vQMvcFTn-",
        "outputId": "67c163f8-e1dc-4e41-db9c-d5a070eaa04c"
      },
      "execution_count": null,
      "outputs": [
        {
          "output_type": "execute_result",
          "data": {
            "text/plain": [
              "      work_year    job_title             job_category salary_currency  salary  \\\n",
              "3026       2023  AI Engineer  Machine Learning and AI             USD  300000   \n",
              "\n",
              "      salary_in_usd employee_residence experience_level employment_type  \\\n",
              "3026         300000              Qatar        Mid-level       Full-time   \n",
              "\n",
              "     work_setting company_location company_size  \n",
              "3026       Remote            Qatar            M  "
            ],
            "text/html": [
              "\n",
              "  <div id=\"df-f445d40f-afc5-4561-8b81-10825b0a06e3\" class=\"colab-df-container\">\n",
              "    <div>\n",
              "<style scoped>\n",
              "    .dataframe tbody tr th:only-of-type {\n",
              "        vertical-align: middle;\n",
              "    }\n",
              "\n",
              "    .dataframe tbody tr th {\n",
              "        vertical-align: top;\n",
              "    }\n",
              "\n",
              "    .dataframe thead th {\n",
              "        text-align: right;\n",
              "    }\n",
              "</style>\n",
              "<table border=\"1\" class=\"dataframe\">\n",
              "  <thead>\n",
              "    <tr style=\"text-align: right;\">\n",
              "      <th></th>\n",
              "      <th>work_year</th>\n",
              "      <th>job_title</th>\n",
              "      <th>job_category</th>\n",
              "      <th>salary_currency</th>\n",
              "      <th>salary</th>\n",
              "      <th>salary_in_usd</th>\n",
              "      <th>employee_residence</th>\n",
              "      <th>experience_level</th>\n",
              "      <th>employment_type</th>\n",
              "      <th>work_setting</th>\n",
              "      <th>company_location</th>\n",
              "      <th>company_size</th>\n",
              "    </tr>\n",
              "  </thead>\n",
              "  <tbody>\n",
              "    <tr>\n",
              "      <th>3026</th>\n",
              "      <td>2023</td>\n",
              "      <td>AI Engineer</td>\n",
              "      <td>Machine Learning and AI</td>\n",
              "      <td>USD</td>\n",
              "      <td>300000</td>\n",
              "      <td>300000</td>\n",
              "      <td>Qatar</td>\n",
              "      <td>Mid-level</td>\n",
              "      <td>Full-time</td>\n",
              "      <td>Remote</td>\n",
              "      <td>Qatar</td>\n",
              "      <td>M</td>\n",
              "    </tr>\n",
              "  </tbody>\n",
              "</table>\n",
              "</div>\n",
              "    <div class=\"colab-df-buttons\">\n",
              "\n",
              "  <div class=\"colab-df-container\">\n",
              "    <button class=\"colab-df-convert\" onclick=\"convertToInteractive('df-f445d40f-afc5-4561-8b81-10825b0a06e3')\"\n",
              "            title=\"Convert this dataframe to an interactive table.\"\n",
              "            style=\"display:none;\">\n",
              "\n",
              "  <svg xmlns=\"http://www.w3.org/2000/svg\" height=\"24px\" viewBox=\"0 -960 960 960\">\n",
              "    <path d=\"M120-120v-720h720v720H120Zm60-500h600v-160H180v160Zm220 220h160v-160H400v160Zm0 220h160v-160H400v160ZM180-400h160v-160H180v160Zm440 0h160v-160H620v160ZM180-180h160v-160H180v160Zm440 0h160v-160H620v160Z\"/>\n",
              "  </svg>\n",
              "    </button>\n",
              "\n",
              "  <style>\n",
              "    .colab-df-container {\n",
              "      display:flex;\n",
              "      gap: 12px;\n",
              "    }\n",
              "\n",
              "    .colab-df-convert {\n",
              "      background-color: #E8F0FE;\n",
              "      border: none;\n",
              "      border-radius: 50%;\n",
              "      cursor: pointer;\n",
              "      display: none;\n",
              "      fill: #1967D2;\n",
              "      height: 32px;\n",
              "      padding: 0 0 0 0;\n",
              "      width: 32px;\n",
              "    }\n",
              "\n",
              "    .colab-df-convert:hover {\n",
              "      background-color: #E2EBFA;\n",
              "      box-shadow: 0px 1px 2px rgba(60, 64, 67, 0.3), 0px 1px 3px 1px rgba(60, 64, 67, 0.15);\n",
              "      fill: #174EA6;\n",
              "    }\n",
              "\n",
              "    .colab-df-buttons div {\n",
              "      margin-bottom: 4px;\n",
              "    }\n",
              "\n",
              "    [theme=dark] .colab-df-convert {\n",
              "      background-color: #3B4455;\n",
              "      fill: #D2E3FC;\n",
              "    }\n",
              "\n",
              "    [theme=dark] .colab-df-convert:hover {\n",
              "      background-color: #434B5C;\n",
              "      box-shadow: 0px 1px 3px 1px rgba(0, 0, 0, 0.15);\n",
              "      filter: drop-shadow(0px 1px 2px rgba(0, 0, 0, 0.3));\n",
              "      fill: #FFFFFF;\n",
              "    }\n",
              "  </style>\n",
              "\n",
              "    <script>\n",
              "      const buttonEl =\n",
              "        document.querySelector('#df-f445d40f-afc5-4561-8b81-10825b0a06e3 button.colab-df-convert');\n",
              "      buttonEl.style.display =\n",
              "        google.colab.kernel.accessAllowed ? 'block' : 'none';\n",
              "\n",
              "      async function convertToInteractive(key) {\n",
              "        const element = document.querySelector('#df-f445d40f-afc5-4561-8b81-10825b0a06e3');\n",
              "        const dataTable =\n",
              "          await google.colab.kernel.invokeFunction('convertToInteractive',\n",
              "                                                    [key], {});\n",
              "        if (!dataTable) return;\n",
              "\n",
              "        const docLinkHtml = 'Like what you see? Visit the ' +\n",
              "          '<a target=\"_blank\" href=https://colab.research.google.com/notebooks/data_table.ipynb>data table notebook</a>'\n",
              "          + ' to learn more about interactive tables.';\n",
              "        element.innerHTML = '';\n",
              "        dataTable['output_type'] = 'display_data';\n",
              "        await google.colab.output.renderOutput(dataTable, element);\n",
              "        const docLink = document.createElement('div');\n",
              "        docLink.innerHTML = docLinkHtml;\n",
              "        element.appendChild(docLink);\n",
              "      }\n",
              "    </script>\n",
              "  </div>\n",
              "\n",
              "\n",
              "    </div>\n",
              "  </div>\n"
            ]
          },
          "metadata": {},
          "execution_count": 19
        }
      ]
    },
    {
      "cell_type": "markdown",
      "source": [
        "Although the highest mean salary is in Qatar, it has only one observation. Japan and Puerto Rico each have only 3 and 2 observations, respectively, with salaries above 150,000. On the other hand, the US, with an average salary of $158,158.72, has 3945 observations with salaries above 150,000.\n"
      ],
      "metadata": {
        "id": "h8rUdzF-hGAB"
      }
    },
    {
      "cell_type": "markdown",
      "source": [
        "##Mean salary in USD by experience level"
      ],
      "metadata": {
        "id": "nDGOgGTomjGy"
      }
    },
    {
      "cell_type": "code",
      "source": [
        "sns.boxplot(data=jobs_data, x='experience_level', y='salary_in_usd')\n",
        "plt.title('Mean salary by experience level')\n",
        "plt.xlabel('Experience Level')\n",
        "plt.ylabel('Salary [USD]')"
      ],
      "metadata": {
        "colab": {
          "base_uri": "https://localhost:8080/"
        },
        "id": "DZYMxc_OmbTR",
        "outputId": "b7c02bf2-922f-4ded-d955-99b3e220c623"
      },
      "execution_count": null,
      "outputs": [
        {
          "output_type": "execute_result",
          "data": {
            "text/plain": [
              "Text(0, 0.5, 'Salary [USD]')"
            ]
          },
          "metadata": {},
          "execution_count": 20
        },
        {
          "output_type": "display_data",
          "data": {
            "text/plain": [
              "<Figure size 640x480 with 1 Axes>"
            ],
            "image/png": "[encoded data removed]"
          },
          "metadata": {}
        }
      ]
    },
    {
      "cell_type": "markdown",
      "source": [
        "As expected, the average salary increases with the rise in seniority. In accordance with our previous prediction, the graph shows several salary outliers, mostly in mid and senior levels\n",
        "\n",
        "\n",
        "\n"
      ],
      "metadata": {
        "id": "2bTXKe_T50oe"
      }
    },
    {
      "cell_type": "markdown",
      "source": [
        "##Mean salary in USD by job category"
      ],
      "metadata": {
        "id": "3-GBQ-tr6KdI"
      }
    },
    {
      "cell_type": "code",
      "source": [
        "sns.boxplot(data=jobs_data, x='job_category', y='salary_in_usd')\n",
        "plt.title('Mean salary in USD by job category')\n",
        "plt.xlabel('Job category')\n",
        "plt.ylabel('Salary [USD]')\n",
        "plt.xticks(rotation=90)\n",
        "\n"
      ],
      "metadata": {
        "id": "IGYCjf4D5zfD",
        "colab": {
          "base_uri": "https://localhost:8080/"
        },
        "outputId": "c87fb3c1-1cf4-4239-fe2b-a26301188720"
      },
      "execution_count": null,
      "outputs": [
        {
          "output_type": "execute_result",
          "data": {
            "text/plain": [
              "([0, 1, 2, 3, 4, 5, 6, 7, 8, 9],\n",
              " [Text(0, 0, 'Data Engineering'),\n",
              "  Text(1, 0, 'Data Architecture and Modeling'),\n",
              "  Text(2, 0, 'Data Science and Research'),\n",
              "  Text(3, 0, 'Machine Learning and AI'),\n",
              "  Text(4, 0, 'Data Analysis'),\n",
              "  Text(5, 0, 'Leadership and Management'),\n",
              "  Text(6, 0, 'BI and Visualization'),\n",
              "  Text(7, 0, 'Data Quality and Operations'),\n",
              "  Text(8, 0, 'Data Management and Strategy'),\n",
              "  Text(9, 0, 'Cloud and Database')])"
            ]
          },
          "metadata": {},
          "execution_count": 21
        },
        {
          "output_type": "display_data",
          "data": {
            "text/plain": [
              "<Figure size 640x480 with 1 Axes>"
            ],
            "image/png": "[encoded data removed]"
          },
          "metadata": {}
        }
      ]
    },
    {
      "cell_type": "markdown",
      "source": [
        "It also can be orbserved that on average, the highest paid position is in the field of Machine Learning and IA.\n"
      ],
      "metadata": {
        "id": "AWEUu7IsoZQS"
      }
    },
    {
      "cell_type": "markdown",
      "source": [
        "#Data wrangling\n",
        "Data wrangling is a crucial step in the data science pipeline where raw data is transformed and cleaned to enhance the performance of future models. In this section, we will carry out the following tasks:\n",
        "\n",
        "1. Analysis and removal of missing values (NA).\n",
        "2. Removal of outliers."
      ],
      "metadata": {
        "id": "74PKMfmEftbf"
      }
    },
    {
      "cell_type": "code",
      "source": [
        "#Sum the null values.\n",
        "jobs_data.isna().sum()"
      ],
      "metadata": {
        "colab": {
          "base_uri": "https://localhost:8080/"
        },
        "id": "nVe_hh_osbpN",
        "outputId": "e8ac12ad-a7c3-4660-b0f2-e828d78b2c80"
      },
      "execution_count": null,
      "outputs": [
        {
          "output_type": "execute_result",
          "data": {
            "text/plain": [
              "work_year             0\n",
              "job_title             0\n",
              "job_category          0\n",
              "salary_currency       0\n",
              "salary                0\n",
              "salary_in_usd         0\n",
              "employee_residence    0\n",
              "experience_level      0\n",
              "employment_type       0\n",
              "work_setting          0\n",
              "company_location      0\n",
              "company_size          0\n",
              "dtype: int64"
            ]
          },
          "metadata": {},
          "execution_count": 22
        }
      ]
    },
    {
      "cell_type": "markdown",
      "source": [
        "There is no missing values"
      ],
      "metadata": {
        "id": "bqI_T4upDzt2"
      }
    },
    {
      "cell_type": "code",
      "source": [
        "jobs_data.shape"
      ],
      "metadata": {
        "colab": {
          "base_uri": "https://localhost:8080/"
        },
        "id": "hZCsvb7P-FYg",
        "outputId": "35f11c7a-26f2-4cc8-e109-3586179ddfb1"
      },
      "execution_count": null,
      "outputs": [
        {
          "output_type": "execute_result",
          "data": {
            "text/plain": [
              "(9355, 12)"
            ]
          },
          "metadata": {},
          "execution_count": 23
        }
      ]
    },
    {
      "cell_type": "code",
      "source": [
        "#Calculate z-score to detect outliers\n",
        "jobs_data['z_score'] = abs(jobs_data['salary_in_usd'].mean() - jobs_data['salary_in_usd']) / jobs_data['salary_in_usd'].std()\n",
        "jobs_data.drop(jobs_data[jobs_data['z_score'] > 3].index, inplace=True)"
      ],
      "metadata": {
        "id": "oWMDj3bLf0_U"
      },
      "execution_count": null,
      "outputs": []
    },
    {
      "cell_type": "code",
      "source": [
        "jobs_data.shape"
      ],
      "metadata": {
        "colab": {
          "base_uri": "https://localhost:8080/"
        },
        "id": "YmeV1hu6-Z3-",
        "outputId": "be4f30ef-64f4-41f5-95a0-12ab764f79e6"
      },
      "execution_count": null,
      "outputs": [
        {
          "output_type": "execute_result",
          "data": {
            "text/plain": [
              "(9292, 13)"
            ]
          },
          "metadata": {},
          "execution_count": 25
        }
      ]
    },
    {
      "cell_type": "code",
      "source": [
        "jobs_data.head()"
      ],
      "metadata": {
        "colab": {
          "base_uri": "https://localhost:8080/"
        },
        "id": "QkT7b9eh4AWa",
        "outputId": "d275fff1-e8cc-4c6d-ae25-326e404e4d7a"
      },
      "execution_count": null,
      "outputs": [
        {
          "output_type": "execute_result",
          "data": {
            "text/plain": [
              "   work_year             job_title                    job_category  \\\n",
              "0       2023  Data DevOps Engineer                Data Engineering   \n",
              "1       2023        Data Architect  Data Architecture and Modeling   \n",
              "2       2023        Data Architect  Data Architecture and Modeling   \n",
              "3       2023        Data Scientist       Data Science and Research   \n",
              "4       2023        Data Scientist       Data Science and Research   \n",
              "\n",
              "  salary_currency  salary  salary_in_usd employee_residence experience_level  \\\n",
              "0             EUR   88000          95012            Germany        Mid-level   \n",
              "1             USD  186000         186000      United States           Senior   \n",
              "2             USD   81800          81800      United States           Senior   \n",
              "3             USD  212000         212000      United States           Senior   \n",
              "4             USD   93300          93300      United States           Senior   \n",
              "\n",
              "  employment_type work_setting company_location company_size   z_score  \n",
              "0       Full-time       Hybrid          Germany            L  0.875115  \n",
              "1       Full-time    In-person    United States            M  0.565084  \n",
              "2       Full-time    In-person    United States            M  1.084241  \n",
              "3       Full-time    In-person    United States            M  0.976623  \n",
              "4       Full-time    In-person    United States            M  0.902214  "
            ],
            "text/html": [
              "\n",
              "  <div id=\"df-04e89511-cbef-4d1b-94ae-55d87e74345a\" class=\"colab-df-container\">\n",
              "    <div>\n",
              "<style scoped>\n",
              "    .dataframe tbody tr th:only-of-type {\n",
              "        vertical-align: middle;\n",
              "    }\n",
              "\n",
              "    .dataframe tbody tr th {\n",
              "        vertical-align: top;\n",
              "    }\n",
              "\n",
              "    .dataframe thead th {\n",
              "        text-align: right;\n",
              "    }\n",
              "</style>\n",
              "<table border=\"1\" class=\"dataframe\">\n",
              "  <thead>\n",
              "    <tr style=\"text-align: right;\">\n",
              "      <th></th>\n",
              "      <th>work_year</th>\n",
              "      <th>job_title</th>\n",
              "      <th>job_category</th>\n",
              "      <th>salary_currency</th>\n",
              "      <th>salary</th>\n",
              "      <th>salary_in_usd</th>\n",
              "      <th>employee_residence</th>\n",
              "      <th>experience_level</th>\n",
              "      <th>employment_type</th>\n",
              "      <th>work_setting</th>\n",
              "      <th>company_location</th>\n",
              "      <th>company_size</th>\n",
              "      <th>z_score</th>\n",
              "    </tr>\n",
              "  </thead>\n",
              "  <tbody>\n",
              "    <tr>\n",
              "      <th>0</th>\n",
              "      <td>2023</td>\n",
              "      <td>Data DevOps Engineer</td>\n",
              "      <td>Data Engineering</td>\n",
              "      <td>EUR</td>\n",
              "      <td>88000</td>\n",
              "      <td>95012</td>\n",
              "      <td>Germany</td>\n",
              "      <td>Mid-level</td>\n",
              "      <td>Full-time</td>\n",
              "      <td>Hybrid</td>\n",
              "      <td>Germany</td>\n",
              "      <td>L</td>\n",
              "      <td>0.875115</td>\n",
              "    </tr>\n",
              "    <tr>\n",
              "      <th>1</th>\n",
              "      <td>2023</td>\n",
              "      <td>Data Architect</td>\n",
              "      <td>Data Architecture and Modeling</td>\n",
              "      <td>USD</td>\n",
              "      <td>186000</td>\n",
              "      <td>186000</td>\n",
              "      <td>United States</td>\n",
              "      <td>Senior</td>\n",
              "      <td>Full-time</td>\n",
              "      <td>In-person</td>\n",
              "      <td>United States</td>\n",
              "      <td>M</td>\n",
              "      <td>0.565084</td>\n",
              "    </tr>\n",
              "    <tr>\n",
              "      <th>2</th>\n",
              "      <td>2023</td>\n",
              "      <td>Data Architect</td>\n",
              "      <td>Data Architecture and Modeling</td>\n",
              "      <td>USD</td>\n",
              "      <td>81800</td>\n",
              "      <td>81800</td>\n",
              "      <td>United States</td>\n",
              "      <td>Senior</td>\n",
              "      <td>Full-time</td>\n",
              "      <td>In-person</td>\n",
              "      <td>United States</td>\n",
              "      <td>M</td>\n",
              "      <td>1.084241</td>\n",
              "    </tr>\n",
              "    <tr>\n",
              "      <th>3</th>\n",
              "      <td>2023</td>\n",
              "      <td>Data Scientist</td>\n",
              "      <td>Data Science and Research</td>\n",
              "      <td>USD</td>\n",
              "      <td>212000</td>\n",
              "      <td>212000</td>\n",
              "      <td>United States</td>\n",
              "      <td>Senior</td>\n",
              "      <td>Full-time</td>\n",
              "      <td>In-person</td>\n",
              "      <td>United States</td>\n",
              "      <td>M</td>\n",
              "      <td>0.976623</td>\n",
              "    </tr>\n",
              "    <tr>\n",
              "      <th>4</th>\n",
              "      <td>2023</td>\n",
              "      <td>Data Scientist</td>\n",
              "      <td>Data Science and Research</td>\n",
              "      <td>USD</td>\n",
              "      <td>93300</td>\n",
              "      <td>93300</td>\n",
              "      <td>United States</td>\n",
              "      <td>Senior</td>\n",
              "      <td>Full-time</td>\n",
              "      <td>In-person</td>\n",
              "      <td>United States</td>\n",
              "      <td>M</td>\n",
              "      <td>0.902214</td>\n",
              "    </tr>\n",
              "  </tbody>\n",
              "</table>\n",
              "</div>\n",
              "    <div class=\"colab-df-buttons\">\n",
              "\n",
              "  <div class=\"colab-df-container\">\n",
              "    <button class=\"colab-df-convert\" onclick=\"convertToInteractive('df-04e89511-cbef-4d1b-94ae-55d87e74345a')\"\n",
              "            title=\"Convert this dataframe to an interactive table.\"\n",
              "            style=\"display:none;\">\n",
              "\n",
              "  <svg xmlns=\"http://www.w3.org/2000/svg\" height=\"24px\" viewBox=\"0 -960 960 960\">\n",
              "    <path d=\"M120-120v-720h720v720H120Zm60-500h600v-160H180v160Zm220 220h160v-160H400v160Zm0 220h160v-160H400v160ZM180-400h160v-160H180v160Zm440 0h160v-160H620v160ZM180-180h160v-160H180v160Zm440 0h160v-160H620v160Z\"/>\n",
              "  </svg>\n",
              "    </button>\n",
              "\n",
              "  <style>\n",
              "    .colab-df-container {\n",
              "      display:flex;\n",
              "      gap: 12px;\n",
              "    }\n",
              "\n",
              "    .colab-df-convert {\n",
              "      background-color: #E8F0FE;\n",
              "      border: none;\n",
              "      border-radius: 50%;\n",
              "      cursor: pointer;\n",
              "      display: none;\n",
              "      fill: #1967D2;\n",
              "      height: 32px;\n",
              "      padding: 0 0 0 0;\n",
              "      width: 32px;\n",
              "    }\n",
              "\n",
              "    .colab-df-convert:hover {\n",
              "      background-color: #E2EBFA;\n",
              "      box-shadow: 0px 1px 2px rgba(60, 64, 67, 0.3), 0px 1px 3px 1px rgba(60, 64, 67, 0.15);\n",
              "      fill: #174EA6;\n",
              "    }\n",
              "\n",
              "    .colab-df-buttons div {\n",
              "      margin-bottom: 4px;\n",
              "    }\n",
              "\n",
              "    [theme=dark] .colab-df-convert {\n",
              "      background-color: #3B4455;\n",
              "      fill: #D2E3FC;\n",
              "    }\n",
              "\n",
              "    [theme=dark] .colab-df-convert:hover {\n",
              "      background-color: #434B5C;\n",
              "      box-shadow: 0px 1px 3px 1px rgba(0, 0, 0, 0.15);\n",
              "      filter: drop-shadow(0px 1px 2px rgba(0, 0, 0, 0.3));\n",
              "      fill: #FFFFFF;\n",
              "    }\n",
              "  </style>\n",
              "\n",
              "    <script>\n",
              "      const buttonEl =\n",
              "        document.querySelector('#df-04e89511-cbef-4d1b-94ae-55d87e74345a button.colab-df-convert');\n",
              "      buttonEl.style.display =\n",
              "        google.colab.kernel.accessAllowed ? 'block' : 'none';\n",
              "\n",
              "      async function convertToInteractive(key) {\n",
              "        const element = document.querySelector('#df-04e89511-cbef-4d1b-94ae-55d87e74345a');\n",
              "        const dataTable =\n",
              "          await google.colab.kernel.invokeFunction('convertToInteractive',\n",
              "                                                    [key], {});\n",
              "        if (!dataTable) return;\n",
              "\n",
              "        const docLinkHtml = 'Like what you see? Visit the ' +\n",
              "          '<a target=\"_blank\" href=https://colab.research.google.com/notebooks/data_table.ipynb>data table notebook</a>'\n",
              "          + ' to learn more about interactive tables.';\n",
              "        element.innerHTML = '';\n",
              "        dataTable['output_type'] = 'display_data';\n",
              "        await google.colab.output.renderOutput(dataTable, element);\n",
              "        const docLink = document.createElement('div');\n",
              "        docLink.innerHTML = docLinkHtml;\n",
              "        element.appendChild(docLink);\n",
              "      }\n",
              "    </script>\n",
              "  </div>\n",
              "\n",
              "\n",
              "<div id=\"df-71553084-a563-4e91-9195-581b0d7b599d\">\n",
              "  <button class=\"colab-df-quickchart\" onclick=\"quickchart('df-71553084-a563-4e91-9195-581b0d7b599d')\"\n",
              "            title=\"Suggest charts\"\n",
              "            style=\"display:none;\">\n",
              "\n",
              "<svg xmlns=\"http://www.w3.org/2000/svg\" height=\"24px\"viewBox=\"0 0 24 24\"\n",
              "     width=\"24px\">\n",
              "    <g>\n",
              "        <path d=\"M19 3H5c-1.1 0-2 .9-2 2v14c0 1.1.9 2 2 2h14c1.1 0 2-.9 2-2V5c0-1.1-.9-2-2-2zM9 17H7v-7h2v7zm4 0h-2V7h2v10zm4 0h-2v-4h2v4z\"/>\n",
              "    </g>\n",
              "</svg>\n",
              "  </button>\n",
              "\n",
              "<style>\n",
              "  .colab-df-quickchart {\n",
              "      --bg-color: #E8F0FE;\n",
              "      --fill-color: #1967D2;\n",
              "      --hover-bg-color: #E2EBFA;\n",
              "      --hover-fill-color: #174EA6;\n",
              "      --disabled-fill-color: #AAA;\n",
              "      --disabled-bg-color: #DDD;\n",
              "  }\n",
              "\n",
              "  [theme=dark] .colab-df-quickchart {\n",
              "      --bg-color: #3B4455;\n",
              "      --fill-color: #D2E3FC;\n",
              "      --hover-bg-color: #434B5C;\n",
              "      --hover-fill-color: #FFFFFF;\n",
              "      --disabled-bg-color: #3B4455;\n",
              "      --disabled-fill-color: #666;\n",
              "  }\n",
              "\n",
              "  .colab-df-quickchart {\n",
              "    background-color: var(--bg-color);\n",
              "    border: none;\n",
              "    border-radius: 50%;\n",
              "    cursor: pointer;\n",
              "    display: none;\n",
              "    fill: var(--fill-color);\n",
              "    height: 32px;\n",
              "    padding: 0;\n",
              "    width: 32px;\n",
              "  }\n",
              "\n",
              "  .colab-df-quickchart:hover {\n",
              "    background-color: var(--hover-bg-color);\n",
              "    box-shadow: 0 1px 2px rgba(60, 64, 67, 0.3), 0 1px 3px 1px rgba(60, 64, 67, 0.15);\n",
              "    fill: var(--button-hover-fill-color);\n",
              "  }\n",
              "\n",
              "  .colab-df-quickchart-complete:disabled,\n",
              "  .colab-df-quickchart-complete:disabled:hover {\n",
              "    background-color: var(--disabled-bg-color);\n",
              "    fill: var(--disabled-fill-color);\n",
              "    box-shadow: none;\n",
              "  }\n",
              "\n",
              "  .colab-df-spinner {\n",
              "    border: 2px solid var(--fill-color);\n",
              "    border-color: transparent;\n",
              "    border-bottom-color: var(--fill-color);\n",
              "    animation:\n",
              "      spin 1s steps(1) infinite;\n",
              "  }\n",
              "\n",
              "  @keyframes spin {\n",
              "    0% {\n",
              "      border-color: transparent;\n",
              "      border-bottom-color: var(--fill-color);\n",
              "      border-left-color: var(--fill-color);\n",
              "    }\n",
              "    20% {\n",
              "      border-color: transparent;\n",
              "      border-left-color: var(--fill-color);\n",
              "      border-top-color: var(--fill-color);\n",
              "    }\n",
              "    30% {\n",
              "      border-color: transparent;\n",
              "      border-left-color: var(--fill-color);\n",
              "      border-top-color: var(--fill-color);\n",
              "      border-right-color: var(--fill-color);\n",
              "    }\n",
              "    40% {\n",
              "      border-color: transparent;\n",
              "      border-right-color: var(--fill-color);\n",
              "      border-top-color: var(--fill-color);\n",
              "    }\n",
              "    60% {\n",
              "      border-color: transparent;\n",
              "      border-right-color: var(--fill-color);\n",
              "    }\n",
              "    80% {\n",
              "      border-color: transparent;\n",
              "      border-right-color: var(--fill-color);\n",
              "      border-bottom-color: var(--fill-color);\n",
              "    }\n",
              "    90% {\n",
              "      border-color: transparent;\n",
              "      border-bottom-color: var(--fill-color);\n",
              "    }\n",
              "  }\n",
              "</style>\n",
              "\n",
              "  <script>\n",
              "    async function quickchart(key) {\n",
              "      const quickchartButtonEl =\n",
              "        document.querySelector('#' + key + ' button');\n",
              "      quickchartButtonEl.disabled = true;  // To prevent multiple clicks.\n",
              "      quickchartButtonEl.classList.add('colab-df-spinner');\n",
              "      try {\n",
              "        const charts = await google.colab.kernel.invokeFunction(\n",
              "            'suggestCharts', [key], {});\n",
              "      } catch (error) {\n",
              "        console.error('Error during call to suggestCharts:', error);\n",
              "      }\n",
              "      quickchartButtonEl.classList.remove('colab-df-spinner');\n",
              "      quickchartButtonEl.classList.add('colab-df-quickchart-complete');\n",
              "    }\n",
              "    (() => {\n",
              "      let quickchartButtonEl =\n",
              "        document.querySelector('#df-71553084-a563-4e91-9195-581b0d7b599d button');\n",
              "      quickchartButtonEl.style.display =\n",
              "        google.colab.kernel.accessAllowed ? 'block' : 'none';\n",
              "    })();\n",
              "  </script>\n",
              "</div>\n",
              "\n",
              "    </div>\n",
              "  </div>\n"
            ]
          },
          "metadata": {},
          "execution_count": 26
        }
      ]
    },
    {
      "cell_type": "markdown",
      "source": [
        "#Modelado"
      ],
      "metadata": {
        "id": "M6hhWQNV2xjW"
      }
    },
    {
      "cell_type": "code",
      "source": [
        "#Import libraries for split the data and transform numerical to categorical\n",
        "from sklearn.model_selection import train_test_split\n",
        "from sklearn.preprocessing import OneHotEncoder\n",
        "\n",
        "#Selecting target variable(y) and features(X)\n",
        "y = jobs_data['salary_in_usd']\n",
        "X = jobs_data[['job_title', 'job_category', 'employee_residence', 'experience_level', 'company_location', \t'company_size']]\n",
        "\n",
        "#Transform categorical to numerical\n",
        "encoder = OneHotEncoder()\n",
        "X_encoded = encoder.fit_transform(X)\n",
        "\n",
        "#Divide into train and split data\n",
        "X_train, X_test, y_train, y_test = train_test_split(X_encoded, y, test_size=0.2, random_state=42)\n",
        "\n",
        "\n"
      ],
      "metadata": {
        "id": "_EM7pnufwfHg"
      },
      "execution_count": null,
      "outputs": []
    },
    {
      "cell_type": "markdown",
      "source": [
        "##Decision Tree"
      ],
      "metadata": {
        "id": "U43JhJdDxboy"
      }
    },
    {
      "cell_type": "code",
      "source": [
        "#Import library for Decision Tree and model evaluation\n",
        "from sklearn.tree import DecisionTreeRegressor\n",
        "from sklearn.metrics import mean_absolute_error\n",
        "\n",
        "#Define a function that tries diferent tree depths\n",
        "def tree_depth_evaluation(depth,X_train, y_train):\n",
        "  jobs_tree_model = DecisionTreeRegressor(max_depth=depth)\n",
        "  jobs_tree_model.fit(X_train, y_train)\n",
        "  y_pred = jobs_tree_model.predict(X_test)\n",
        "  mae_tree = mean_absolute_error(y_test, y_pred)\n",
        "  return mae_tree\n",
        "\n",
        "#Try different depth for the model\n",
        "for depth in [1,10,50,500,5000,50000]:\n",
        "  mae_tree = tree_depth_evaluation(depth, X_train, y_train)\n",
        "  print(f'Depth:{depth}, MAE: {mae_tree}')"
      ],
      "metadata": {
        "id": "m573yQUFCa-G",
        "colab": {
          "base_uri": "https://localhost:8080/"
        },
        "outputId": "ca9967e1-2bce-424c-bed2-0e434d2a4bac"
      },
      "execution_count": null,
      "outputs": [
        {
          "output_type": "stream",
          "name": "stdout",
          "text": [
            "Depth:1, MAE: 45575.23698896259\n",
            "Depth:10, MAE: 37253.04030928407\n",
            "Depth:50, MAE: 37287.20788992281\n",
            "Depth:500, MAE: 37236.85125625849\n",
            "Depth:5000, MAE: 37304.815878088484\n",
            "Depth:50000, MAE: 37167.226375636914\n"
          ]
        }
      ]
    },
    {
      "cell_type": "code",
      "source": [
        "#Create the Decision Tree with the best depth (the one with minimun mae)\n",
        "jobs_tree_model = DecisionTreeRegressor(max_depth=10)\n",
        "jobs_tree_model.fit(X_train, y_train)\n",
        "y_pred_tree = jobs_tree_model.predict(X_test)\n",
        "\n"
      ],
      "metadata": {
        "id": "TD_mLqJ3-5uk"
      },
      "execution_count": null,
      "outputs": []
    },
    {
      "cell_type": "code",
      "source": [
        "#Evaluate the R2 Score\n",
        "from sklearn.metrics import r2_score\n",
        "r2_tree = r2_score(y_test, y_pred_tree)\n",
        "print(f'R^2: {r2_tree}')"
      ],
      "metadata": {
        "colab": {
          "base_uri": "https://localhost:8080/"
        },
        "id": "JsTh54ZP6mPP",
        "outputId": "e50b2bbc-0ec2-4a6b-e5cd-b8c5b3ace812"
      },
      "execution_count": null,
      "outputs": [
        {
          "output_type": "stream",
          "name": "stdout",
          "text": [
            "R^2: 0.38111992801296657\n"
          ]
        }
      ]
    },
    {
      "cell_type": "markdown",
      "source": [],
      "metadata": {
        "id": "4sO01Kf2WdNH"
      }
    },
    {
      "cell_type": "markdown",
      "source": [
        "##Random Forest\n"
      ],
      "metadata": {
        "id": "zPbozsibyI9C"
      }
    },
    {
      "cell_type": "code",
      "source": [
        "#Import library for Random forest\n",
        "from sklearn.ensemble import RandomForestRegressor\n",
        "\n",
        "#Define a function that tries differents forest depth\n",
        "def forest_depth_evaluation(depth,X_train, y_train):\n",
        "  jobs_forest_model = RandomForestRegressor(max_depth=depth, random_state=42)\n",
        "  jobs_forest_model.fit(X_train, y_train)\n",
        "  y_pred = jobs_forest_model.predict(X_test)\n",
        "  mae_tree = mean_absolute_error(y_test, y_pred)\n",
        "  return mae_tree\n",
        "\n",
        "#Try different depth for the model\n",
        "for depth in [1,10,50,500,5000,50000]:\n",
        "  mae_forest = forest_depth_evaluation(depth, X_train, y_train)\n",
        "  print(f'Depth:{depth}, MAE: {mae_forest}')"
      ],
      "metadata": {
        "id": "SHOW3OiByN-R",
        "colab": {
          "base_uri": "https://localhost:8080/"
        },
        "outputId": "cdcd4f23-0ee7-454c-9634-694d6c7c512a"
      },
      "execution_count": null,
      "outputs": [
        {
          "output_type": "stream",
          "name": "stdout",
          "text": [
            "Depth:1, MAE: 45454.9912590118\n",
            "Depth:10, MAE: 36762.90945766246\n",
            "Depth:50, MAE: 36618.5743896564\n",
            "Depth:500, MAE: 36617.76742156001\n",
            "Depth:5000, MAE: 36617.76742156001\n",
            "Depth:50000, MAE: 36617.76742156001\n"
          ]
        }
      ]
    },
    {
      "cell_type": "code",
      "source": [
        "\n"
      ],
      "metadata": {
        "id": "-vY1F-XNzuWC"
      },
      "execution_count": null,
      "outputs": []
    },
    {
      "cell_type": "code",
      "source": [
        "#Create a Random forest model with the best depth (the one with minimun mae)\n",
        "jobs_forest_model = RandomForestRegressor(max_depth=500)\n",
        "jobs_tree_model.fit(X_train, y_train)\n",
        "y_pred_forest = jobs_tree_model.predict(X_test)"
      ],
      "metadata": {
        "id": "o4HHroPw7MDB"
      },
      "execution_count": null,
      "outputs": []
    },
    {
      "cell_type": "code",
      "source": [
        "#Evaluate the R2 Score\n",
        "from sklearn.metrics import r2_score\n",
        "r2_forest = r2_score(y_test, y_pred_forest)\n",
        "print(f'R^2: {r2_tree}')"
      ],
      "metadata": {
        "colab": {
          "base_uri": "https://localhost:8080/"
        },
        "id": "v1W_vHMA68kx",
        "outputId": "5ba9fef3-5a54-402b-aa37-bca0952a1241"
      },
      "execution_count": null,
      "outputs": [
        {
          "output_type": "stream",
          "name": "stdout",
          "text": [
            "R^2: 0.38111992801296657\n"
          ]
        }
      ]
    },
    {
      "cell_type": "markdown",
      "source": [
        "##Linear Regression"
      ],
      "metadata": {
        "id": "MUFIClg224LE"
      }
    },
    {
      "cell_type": "code",
      "source": [
        "#Import library for Linear Regression model\n",
        "from sklearn.linear_model import LinearRegression\n",
        "\n",
        "#Create and fit the model\n",
        "linear_model = LinearRegression()\n",
        "linear_model.fit(X_train, y_train)\n",
        "\n",
        "#Make predictions\n",
        "y_pred_linear = linear_model.predict(X_test)\n",
        "\n",
        "#Evaluate the model\n",
        "mae_linear = mean_absolute_error(y_test, y_pred_linear)\n",
        "mae_linear\n"
      ],
      "metadata": {
        "colab": {
          "base_uri": "https://localhost:8080/"
        },
        "id": "kgE_eSgP2-AE",
        "outputId": "6b10f4f3-ad9e-4f05-d3f4-f7198c5acbfb"
      },
      "execution_count": null,
      "outputs": [
        {
          "output_type": "execute_result",
          "data": {
            "text/plain": [
              "37085.82139757919"
            ]
          },
          "metadata": {},
          "execution_count": 34
        }
      ]
    }
  ],
  "metadata": {
    "colab": {
      "provenance": [],
      "collapsed_sections": [
        "pII7KnTL0CGF",
        "fvrRb_8B0btF",
        "Q_Wkk5dl6Z1G",
        "zmtg3y8QddG9",
        "yrKTmgyOBoao",
        "nDGOgGTomjGy",
        "3-GBQ-tr6KdI",
        "74PKMfmEftbf",
        "U43JhJdDxboy",
        "zPbozsibyI9C",
        "MUFIClg224LE"
      ]
    },
    "kernelspec": {
      "display_name": "Python 3",
      "name": "python3"
    },
    "language_info": {
      "name": "python"
    }
  },
  "nbformat": 4,
  "nbformat_minor": 0
}